{
 "cells": [
  {
   "cell_type": "code",
   "execution_count": 1,
   "metadata": {},
   "outputs": [],
   "source": [
    "import matplotlib.pyplot as plt\n",
    "import pandas as pd"
   ]
  },
  {
   "cell_type": "code",
   "execution_count": 2,
   "metadata": {},
   "outputs": [],
   "source": [
    "df = pd.read_csv(\"sample.csv\")"
   ]
  },
  {
   "cell_type": "code",
   "execution_count": 3,
   "metadata": {},
   "outputs": [
    {
     "data": {
      "text/html": [
       "<div>\n",
       "<style scoped>\n",
       "    .dataframe tbody tr th:only-of-type {\n",
       "        vertical-align: middle;\n",
       "    }\n",
       "\n",
       "    .dataframe tbody tr th {\n",
       "        vertical-align: top;\n",
       "    }\n",
       "\n",
       "    .dataframe thead th {\n",
       "        text-align: right;\n",
       "    }\n",
       "</style>\n",
       "<table border=\"1\" class=\"dataframe\">\n",
       "  <thead>\n",
       "    <tr style=\"text-align: right;\">\n",
       "      <th></th>\n",
       "      <th>Roll No.</th>\n",
       "      <th>Physics</th>\n",
       "      <th>Chemistry</th>\n",
       "      <th>Maths</th>\n",
       "      <th>Computer</th>\n",
       "    </tr>\n",
       "  </thead>\n",
       "  <tbody>\n",
       "    <tr>\n",
       "      <th>0</th>\n",
       "      <td>1</td>\n",
       "      <td>56.0</td>\n",
       "      <td>57.0</td>\n",
       "      <td>58.0</td>\n",
       "      <td>59.0</td>\n",
       "    </tr>\n",
       "    <tr>\n",
       "      <th>1</th>\n",
       "      <td>2</td>\n",
       "      <td>23.0</td>\n",
       "      <td>24.0</td>\n",
       "      <td>25.0</td>\n",
       "      <td>26.0</td>\n",
       "    </tr>\n",
       "    <tr>\n",
       "      <th>2</th>\n",
       "      <td>3</td>\n",
       "      <td>89.0</td>\n",
       "      <td>25.0</td>\n",
       "      <td>26.0</td>\n",
       "      <td>27.0</td>\n",
       "    </tr>\n",
       "    <tr>\n",
       "      <th>3</th>\n",
       "      <td>4</td>\n",
       "      <td>45.0</td>\n",
       "      <td>26.0</td>\n",
       "      <td>27.0</td>\n",
       "      <td>28.0</td>\n",
       "    </tr>\n",
       "    <tr>\n",
       "      <th>4</th>\n",
       "      <td>5</td>\n",
       "      <td>23.0</td>\n",
       "      <td>27.0</td>\n",
       "      <td>28.0</td>\n",
       "      <td>29.0</td>\n",
       "    </tr>\n",
       "  </tbody>\n",
       "</table>\n",
       "</div>"
      ],
      "text/plain": [
       "   Roll No.  Physics  Chemistry  Maths  Computer\n",
       "0         1     56.0       57.0   58.0      59.0\n",
       "1         2     23.0       24.0   25.0      26.0\n",
       "2         3     89.0       25.0   26.0      27.0\n",
       "3         4     45.0       26.0   27.0      28.0\n",
       "4         5     23.0       27.0   28.0      29.0"
      ]
     },
     "execution_count": 3,
     "metadata": {},
     "output_type": "execute_result"
    }
   ],
   "source": [
    "df.head()"
   ]
  },
  {
   "cell_type": "code",
   "execution_count": 4,
   "metadata": {},
   "outputs": [
    {
     "data": {
      "text/html": [
       "<div>\n",
       "<style scoped>\n",
       "    .dataframe tbody tr th:only-of-type {\n",
       "        vertical-align: middle;\n",
       "    }\n",
       "\n",
       "    .dataframe tbody tr th {\n",
       "        vertical-align: top;\n",
       "    }\n",
       "\n",
       "    .dataframe thead th {\n",
       "        text-align: right;\n",
       "    }\n",
       "</style>\n",
       "<table border=\"1\" class=\"dataframe\">\n",
       "  <thead>\n",
       "    <tr style=\"text-align: right;\">\n",
       "      <th></th>\n",
       "      <th>Roll No.</th>\n",
       "      <th>Physics</th>\n",
       "      <th>Chemistry</th>\n",
       "      <th>Maths</th>\n",
       "      <th>Computer</th>\n",
       "    </tr>\n",
       "  </thead>\n",
       "  <tbody>\n",
       "    <tr>\n",
       "      <th>count</th>\n",
       "      <td>30.000000</td>\n",
       "      <td>27.000000</td>\n",
       "      <td>26.000000</td>\n",
       "      <td>28.00000</td>\n",
       "      <td>29.000000</td>\n",
       "    </tr>\n",
       "    <tr>\n",
       "      <th>mean</th>\n",
       "      <td>15.500000</td>\n",
       "      <td>52.814815</td>\n",
       "      <td>34.884615</td>\n",
       "      <td>34.50000</td>\n",
       "      <td>38.517241</td>\n",
       "    </tr>\n",
       "    <tr>\n",
       "      <th>std</th>\n",
       "      <td>8.803408</td>\n",
       "      <td>20.382944</td>\n",
       "      <td>13.650866</td>\n",
       "      <td>13.19231</td>\n",
       "      <td>14.917920</td>\n",
       "    </tr>\n",
       "    <tr>\n",
       "      <th>min</th>\n",
       "      <td>1.000000</td>\n",
       "      <td>12.000000</td>\n",
       "      <td>13.000000</td>\n",
       "      <td>14.00000</td>\n",
       "      <td>15.000000</td>\n",
       "    </tr>\n",
       "    <tr>\n",
       "      <th>25%</th>\n",
       "      <td>8.250000</td>\n",
       "      <td>45.000000</td>\n",
       "      <td>24.250000</td>\n",
       "      <td>24.75000</td>\n",
       "      <td>26.000000</td>\n",
       "    </tr>\n",
       "    <tr>\n",
       "      <th>50%</th>\n",
       "      <td>15.500000</td>\n",
       "      <td>51.000000</td>\n",
       "      <td>35.500000</td>\n",
       "      <td>34.50000</td>\n",
       "      <td>43.000000</td>\n",
       "    </tr>\n",
       "    <tr>\n",
       "      <th>75%</th>\n",
       "      <td>22.750000</td>\n",
       "      <td>56.500000</td>\n",
       "      <td>46.750000</td>\n",
       "      <td>46.25000</td>\n",
       "      <td>50.000000</td>\n",
       "    </tr>\n",
       "    <tr>\n",
       "      <th>max</th>\n",
       "      <td>30.000000</td>\n",
       "      <td>90.000000</td>\n",
       "      <td>57.000000</td>\n",
       "      <td>58.00000</td>\n",
       "      <td>66.000000</td>\n",
       "    </tr>\n",
       "  </tbody>\n",
       "</table>\n",
       "</div>"
      ],
      "text/plain": [
       "        Roll No.    Physics  Chemistry     Maths   Computer\n",
       "count  30.000000  27.000000  26.000000  28.00000  29.000000\n",
       "mean   15.500000  52.814815  34.884615  34.50000  38.517241\n",
       "std     8.803408  20.382944  13.650866  13.19231  14.917920\n",
       "min     1.000000  12.000000  13.000000  14.00000  15.000000\n",
       "25%     8.250000  45.000000  24.250000  24.75000  26.000000\n",
       "50%    15.500000  51.000000  35.500000  34.50000  43.000000\n",
       "75%    22.750000  56.500000  46.750000  46.25000  50.000000\n",
       "max    30.000000  90.000000  57.000000  58.00000  66.000000"
      ]
     },
     "execution_count": 4,
     "metadata": {},
     "output_type": "execute_result"
    }
   ],
   "source": [
    "df.describe()"
   ]
  },
  {
   "cell_type": "code",
   "execution_count": 5,
   "metadata": {},
   "outputs": [],
   "source": [
    "def calculate_statistics(data):\n",
    "    statistics = {\n",
    "        'mean': data.mean(),\n",
    "        'median': data.median(),\n",
    "        'mode': data.mode().iloc[0],  # mode might return multiple values\n",
    "        'std_dev': data.std(),\n",
    "        'correlation': data.corr()\n",
    "    }\n",
    "    return statistics\n",
    "\n",
    "def histogram(data, column):\n",
    "    plt.hist(data[column])\n",
    "    plt.title(f'Histogram of {column}')\n",
    "    plt.xlabel(column)\n",
    "    plt.ylabel('Frequency')\n",
    "    plt.show()\n",
    "\n",
    "def scatter_plot(data, column1, column2):\n",
    "    plt.scatter(data[column1], data[column2])\n",
    "    plt.title(f'Scatter Plot of {column1} vs {column2}')\n",
    "    plt.xlabel(column1)\n",
    "    plt.ylabel(column2)\n",
    "    plt.show()\n",
    "\n",
    "def line_plot(data, column):\n",
    "    plt.plot(data[column])\n",
    "    plt.title(f'Line Plot of {column}')\n",
    "    plt.xlabel('Index')\n",
    "    plt.ylabel(column)\n",
    "    plt.show()"
   ]
  },
  {
   "cell_type": "code",
   "execution_count": 6,
   "metadata": {},
   "outputs": [
    {
     "data": {
      "text/plain": [
       "\"{'mean': Roll No.     15.500000\\nPhysics      52.814815\\nChemistry    34.884615\\nMaths        34.500000\\nComputer     38.517241\\ndtype: float64, 'median': Roll No.     15.5\\nPhysics      51.0\\nChemistry    35.5\\nMaths        34.5\\nComputer     43.0\\ndtype: float64, 'mode': Roll No.      1.0\\nPhysics      45.0\\nChemistry    13.0\\nMaths        14.0\\nComputer     43.0\\nName: 0, dtype: float64, 'std_dev': Roll No.      8.803408\\nPhysics      20.382944\\nChemistry    13.650866\\nMaths        13.192310\\nComputer     14.917920\\ndtype: float64, 'correlation':            Roll No.   Physics  Chemistry     Maths  Computer\\nRoll No.   1.000000  0.026508   0.460965  0.451501  0.690104\\nPhysics    0.026508  1.000000   0.176808 -0.017761  0.048506\\nChemistry  0.460965  0.176808   1.000000  0.999671  0.860923\\nMaths      0.451501 -0.017761   0.999671  1.000000  0.863882\\nComputer   0.690104  0.048506   0.860923  0.863882  1.000000}\""
      ]
     },
     "execution_count": 6,
     "metadata": {},
     "output_type": "execute_result"
    }
   ],
   "source": [
    "data = str(calculate_statistics(df))\n",
    "data"
   ]
  },
  {
   "cell_type": "code",
   "execution_count": 7,
   "metadata": {},
   "outputs": [
    {
     "data": {
      "image/png": "[encoded data removed]",
      "text/plain": [
       "<Figure size 640x480 with 1 Axes>"
      ]
     },
     "metadata": {},
     "output_type": "display_data"
    }
   ],
   "source": [
    "histogram(df,'Physics')"
   ]
  },
  {
   "cell_type": "code",
   "execution_count": 8,
   "metadata": {},
   "outputs": [
    {
     "data": {
      "image/png": "[encoded data removed]",
      "text/plain": [
       "<Figure size 640x480 with 1 Axes>"
      ]
     },
     "metadata": {},
     "output_type": "display_data"
    }
   ],
   "source": [
    "scatter_plot(df,'Physics','Maths')"
   ]
  },
  {
   "cell_type": "code",
   "execution_count": 9,
   "metadata": {},
   "outputs": [
    {
     "data": {
      "image/png": "[encoded data removed]",
      "text/plain": [
       "<Figure size 640x480 with 1 Axes>"
      ]
     },
     "metadata": {},
     "output_type": "display_data"
    }
   ],
   "source": [
    "line_plot(df,'Physics')"
   ]
  },
  {
   "cell_type": "code",
   "execution_count": 10,
   "metadata": {},
   "outputs": [],
   "source": [
    "import os \n",
    "import openai \n",
    "from getpass import getpass\n",
    "from langchain_openai import OpenAI\n",
    "from langchain_openai import ChatOpenAI\n",
    "from langchain.chat_models import ChatOpenAI\n",
    "from langchain.schema import HumanMessage"
   ]
  },
  {
   "cell_type": "code",
   "execution_count": 11,
   "metadata": {},
   "outputs": [],
   "source": [
    "os.environ[\"OPENAI_API_KEY\"] = getpass(\"Enter your OpenAI API key: \")\n",
    "openai.api_key=os.getenv(\"OPENAI_API_KEY\")"
   ]
  },
  {
   "cell_type": "code",
   "execution_count": 12,
   "metadata": {},
   "outputs": [
    {
     "name": "stderr",
     "output_type": "stream",
     "text": [
      "c:\\Users\\sohil\\AppData\\Local\\Programs\\Python\\Python311\\Lib\\site-packages\\langchain_core\\_api\\deprecation.py:119: LangChainDeprecationWarning: The class `ChatOpenAI` was deprecated in LangChain 0.0.10 and will be removed in 0.3.0. An updated version of the class exists in the langchain-openai package and should be used instead. To use it run `pip install -U langchain-openai` and import as `from langchain_openai import ChatOpenAI`.\n",
      "  warn_deprecated(\n"
     ]
    },
    {
     "name": "stdout",
     "output_type": "stream",
     "text": [
      "<class 'langchain_core.messages.ai.AIMessage'>\n",
      "content='Here are some statistical measures for the given data:\\n\\nMean:\\n- Physics: 52.81\\n- Chemistry: 34.88\\n- Maths: 34.50\\n- Computer: 38.52\\n\\nMedian:\\n- Physics: 51.0\\n- Chemistry: 35.5\\n- Maths: 34.5\\n- Computer: 43.0\\n\\nMode:\\n- Physics: 45.0\\n- Chemistry: 13.0\\n- Maths: 14.0\\n- Computer: 43.0\\n\\nStandard Deviation:\\n- Physics: 20.38\\n- Chemistry: 13.65\\n- Maths: 13.19\\n- Computer: 14.92\\n\\nCorrelation:\\n- Strong positive correlation between Roll No. and Physics, Chemistry, Maths, and Computer\\n- Weak positive correlation between Physics and Computer\\n- Strong positive correlation between Chemistry and Maths, Chemistry and Computer, and Maths and Computer' response_metadata={'token_usage': {'completion_tokens': 195, 'prompt_tokens': 390, 'total_tokens': 585}, 'model_name': 'gpt-3.5-turbo', 'system_fingerprint': None, 'finish_reason': 'stop', 'logprobs': None} id='run-3f37accd-8202-4792-a8a1-c60a0a6196d3-0'\n"
     ]
    }
   ],
   "source": [
    "llm_model = \"gpt-3.5-turbo\"\n",
    "prompt = data\n",
    "messages = [HumanMessage(content=prompt)]\n",
    "chat_model = ChatOpenAI(temperature=0.7) \n",
    "response=chat_model.invoke(messages)\n",
    "print(type(response))\n",
    "print(response)"
   ]
  },
  {
   "cell_type": "code",
   "execution_count": 13,
   "metadata": {},
   "outputs": [
    {
     "data": {
      "text/plain": [
       "'Here are some statistical measures for the given data:\\n\\nMean:\\n- Physics: 52.81\\n- Chemistry: 34.88\\n- Maths: 34.50\\n- Computer: 38.52\\n\\nMedian:\\n- Physics: 51.0\\n- Chemistry: 35.5\\n- Maths: 34.5\\n- Computer: 43.0\\n\\nMode:\\n- Physics: 45.0\\n- Chemistry: 13.0\\n- Maths: 14.0\\n- Computer: 43.0\\n\\nStandard Deviation:\\n- Physics: 20.38\\n- Chemistry: 13.65\\n- Maths: 13.19\\n- Computer: 14.92\\n\\nCorrelation:\\n- Strong positive correlation between Roll No. and Physics, Chemistry, Maths, and Computer\\n- Weak positive correlation between Physics and Computer\\n- Strong positive correlation between Chemistry and Maths, Chemistry and Computer, and Maths and Computer'"
      ]
     },
     "execution_count": 13,
     "metadata": {},
     "output_type": "execute_result"
    }
   ],
   "source": [
    "response.content"
   ]
  },
  {
   "cell_type": "code",
   "execution_count": 18,
   "metadata": {},
   "outputs": [],
   "source": [
    "question = input()"
   ]
  },
  {
   "cell_type": "code",
   "execution_count": 19,
   "metadata": {},
   "outputs": [
    {
     "name": "stdout",
     "output_type": "stream",
     "text": [
      "The mode of a dataset is the value that appears most frequently. In this case, the mode of the Physics scores would be 45.0.\n",
      "\n",
      "The mean of Physics scores is 52.814815.\n"
     ]
    }
   ],
   "source": [
    "messages.append(HumanMessage(content=question))\n",
    "response=chat_model.invoke(messages)\n",
    "print(response.content)"
   ]
  },
  {
   "cell_type": "code",
   "execution_count": null,
   "metadata": {},
   "outputs": [],
   "source": []
  }
 ],
 "metadata": {
  "kernelspec": {
   "display_name": "Python 3",
   "language": "python",
   "name": "python3"
  },
  "language_info": {
   "codemirror_mode": {
    "name": "ipython",
    "version": 3
   },
   "file_extension": ".py",
   "mimetype": "text/x-python",
   "name": "python",
   "nbconvert_exporter": "python",
   "pygments_lexer": "ipython3",
   "version": "3.11.6"
  }
 },
 "nbformat": 4,
 "nbformat_minor": 2
}
