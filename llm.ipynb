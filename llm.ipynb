{
 "cells": [
  {
   "cell_type": "code",
   "execution_count": 4,
   "id": "c493da0a-85d8-47af-9f90-4ff30e38cd44",
   "metadata": {},
   "outputs": [],
   "source": [
    "import os \n",
    "import openai \n",
    "from getpass import getpass\n",
    "from langchain_openai import OpenAI\n",
    "from langchain_openai import ChatOpenAI\n",
    "from langchain.chat_models import ChatOpenAI\n",
    "from langchain.schema import HumanMessage"
   ]
  },
  {
   "cell_type": "code",
   "execution_count": 5,
   "id": "ed63a869-2f6e-417d-8987-acebcbc1f33a",
   "metadata": {},
   "outputs": [],
   "source": [
    "os.environ[\"OPENAI_API_KEY\"] = getpass(\"Enter your OpenAI API key: \")\n",
    "openai.api_key=os.getenv(\"OPENAI_API_KEY\")"
   ]
  },
  {
   "cell_type": "code",
   "execution_count": 6,
   "id": "2fcf7b82-cf43-4d30-8c92-512ccc0c0db3",
   "metadata": {},
   "outputs": [
    {
     "name": "stdout",
     "output_type": "stream",
     "text": [
      "<class 'langchain_core.messages.ai.AIMessage'>\n",
      "content='The current estimated age of the Universe is about 13.8 billion years. This age is based on observations of the cosmic microwave background radiation and the expansion rate of the Universe.' response_metadata={'token_usage': {'completion_tokens': 36, 'prompt_tokens': 12, 'total_tokens': 48}, 'model_name': 'gpt-3.5-turbo', 'system_fingerprint': None, 'finish_reason': 'stop', 'logprobs': None} id='run-6fade7c2-7479-42eb-8707-3b4442e56ad0-0'\n"
     ]
    }
   ],
   "source": [
    "llm_model = \"gpt-3.5-turbo\"\n",
    "prompt = \"How old is the Universe\"\n",
    "messages = [HumanMessage(content=prompt)]\n",
    "chat_model = ChatOpenAI(temperature=0.7) \n",
    "response=chat_model.invoke(messages)\n",
    "print(type(response))\n",
    "print(response)"
   ]
  },
  {
   "cell_type": "code",
   "execution_count": 7,
   "id": "1931cb89-2f73-4569-af81-bb6ac52e45f0",
   "metadata": {},
   "outputs": [
    {
     "data": {
      "text/plain": [
       "'The current estimated age of the Universe is about 13.8 billion years. This age is based on observations of the cosmic microwave background radiation and the expansion rate of the Universe.'"
      ]
     },
     "execution_count": 7,
     "metadata": {},
     "output_type": "execute_result"
    }
   ],
   "source": [
    "response.content"
   ]
  },
  {
   "cell_type": "code",
   "execution_count": 8,
   "id": "56dfd7b4-cef8-4925-8881-9e211386ad9b",
   "metadata": {},
   "outputs": [
    {
     "name": "stdout",
     "output_type": "stream",
     "text": [
      "The age of the Universe is estimated to be around 13.8 billion years old. When converted into millions, the age of the Universe would be 13,800 million years old.\n"
     ]
    }
   ],
   "source": [
    "messages.append(HumanMessage(content=\"Convert it into millions\"))\n",
    "response=chat_model.invoke(messages)\n",
    "print(response.content)"
   ]
  },
  {
   "cell_type": "code",
   "execution_count": 30,
   "id": "de442f54-6e53-40bc-baad-0d0e53bf2a7e",
   "metadata": {},
   "outputs": [
    {
     "data": {
      "text/plain": [
       "AIMessage(content='The estimated age of the Universe is approximately 13.8 billion years. In millions, this would be 13,800 million years.', response_metadata={'token_usage': {'completion_tokens': 28, 'prompt_tokens': 20, 'total_tokens': 48}, 'model_name': 'gpt-3.5-turbo', 'system_fingerprint': None, 'finish_reason': 'stop', 'logprobs': None}, id='run-fcc07c25-123f-41aa-bc00-5b6d6f3d978c-0')"
      ]
     },
     "execution_count": 30,
     "metadata": {},
     "output_type": "execute_result"
    }
   ],
   "source": [
    "response"
   ]
  }
 ],
 "metadata": {
  "kernelspec": {
   "display_name": "Python 3 (ipykernel)",
   "language": "python",
   "name": "python3"
  },
  "language_info": {
   "codemirror_mode": {
    "name": "ipython",
    "version": 3
   },
   "file_extension": ".py",
   "mimetype": "text/x-python",
   "name": "python",
   "nbconvert_exporter": "python",
   "pygments_lexer": "ipython3",
   "version": "3.11.6"
  }
 },
 "nbformat": 4,
 "nbformat_minor": 5
}
